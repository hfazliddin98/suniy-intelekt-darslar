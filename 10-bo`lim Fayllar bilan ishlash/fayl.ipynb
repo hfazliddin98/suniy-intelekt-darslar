{
 "cells": [
  {
   "cell_type": "code",
   "execution_count": 1,
   "metadata": {},
   "outputs": [
    {
     "name": "stdout",
     "output_type": "stream",
     "text": [
      "asalomu alaykum\n",
      "\n",
      "Ali\n"
     ]
    }
   ],
   "source": [
    "fayl = 'fayllar/salom.doc'\n",
    "ism = 'Ali'\n",
    "familya = 'Aliyev'\n",
    "with open(fayl, 'w') as file:\n",
    "    file.write('asalomu alaykum\\n' + ism)\n",
    "\n",
    "with open(fayl) as file:\n",
    "    for line in file:  \n",
    "        print(line)      "
   ]
  }
 ],
 "metadata": {
  "kernelspec": {
   "display_name": "Python 3",
   "language": "python",
   "name": "python3"
  },
  "language_info": {
   "codemirror_mode": {
    "name": "ipython",
    "version": 3
   },
   "file_extension": ".py",
   "mimetype": "text/x-python",
   "name": "python",
   "nbconvert_exporter": "python",
   "pygments_lexer": "ipython3",
   "version": "3.11.2"
  },
  "orig_nbformat": 4
 },
 "nbformat": 4,
 "nbformat_minor": 2
}
