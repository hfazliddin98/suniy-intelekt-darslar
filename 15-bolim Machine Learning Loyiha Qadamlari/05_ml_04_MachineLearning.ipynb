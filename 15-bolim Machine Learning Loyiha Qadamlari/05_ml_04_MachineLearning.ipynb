{
  "cells": [
    {
      "cell_type": "markdown",
      "metadata": {
        "id": "1UFTsplDWahW"
      },
      "source": [
        "![Imgur](https://i.imgur.com/5pXzCIu.png)\n",
        "\n",
        "# Data Science va Sun'iy Intellekt Praktikum\n",
        "\n",
        "## 5-MODUL. Machine Learning\n",
        "\n",
        "### 5.1 - ML loyiha qadamlari\n",
        "\n",
        "## Machine Learning"
      ]
    },
    {
      "cell_type": "markdown",
      "metadata": {
        "id": "D6Tj0hQ6WpmT"
      },
      "source": [
        "Nihoyat ma'lumotlarimiz ML uchun tayyor. \n",
        "\n",
        "Boshlanishiga kerakli modullar va ma'lumotlarni qayta o'qib olamiz."
      ]
    },
    {
      "cell_type": "code",
      "execution_count": null,
      "metadata": {
        "id": "gM8qCFBcqRc8"
      },
      "outputs": [],
      "source": [
        "import pandas as pd\n",
        "import numpy as np\n",
        "import sklearn # scikit-learn kutubxonasi"
      ]
    },
    {
      "cell_type": "markdown",
      "metadata": {
        "id": "sQhPvvi9rw7r"
      },
      "source": [
        "### Ma'lumotlarni o'qiymiz"
      ]
    },
    {
      "cell_type": "code",
      "execution_count": null,
      "metadata": {
        "id": "8CDjbEGUrw7r"
      },
      "outputs": [],
      "source": [
        "# Onlayn dataset joylashgan manzilini ko'rsatamiaz\n",
        "URL = \"https://github.com/ageron/handson-ml2/blob/master/datasets/housing/housing.csv?raw=true\"\n",
        "df = pd.read_csv(URL)"
      ]
    },
    {
      "cell_type": "markdown",
      "metadata": {
        "id": "GeZuXZyyrw7s"
      },
      "source": [
        "### Ma'lumotlarni train va testga ajratamiz."
      ]
    },
    {
      "cell_type": "code",
      "execution_count": null,
      "metadata": {
        "id": "_V-17Q2irw7t"
      },
      "outputs": [],
      "source": [
        "from sklearn.model_selection import train_test_split\n",
        "train_set, test_set = train_test_split(df, test_size=0.2, random_state=42)\n",
        "\n",
        "X_train = train_set.drop(\"median_house_value\", axis=1)\n",
        "y = train_set[\"median_house_value\"].copy()\n",
        "\n",
        "X_num = X_train.drop(\"ocean_proximity\", axis=1)"
      ]
    },
    {
      "cell_type": "markdown",
      "metadata": {
        "id": "-PGvpJNHrw7u"
      },
      "source": [
        "## Pipeline quramiz"
      ]
    },
    {
      "cell_type": "code",
      "execution_count": null,
      "metadata": {
        "id": "35vUpq46qe13"
      },
      "outputs": [],
      "source": [
        "from sklearn.base import BaseEstimator, TransformerMixin\n",
        "# bizga kerak ustunlar indekslari\n",
        "rooms_ix, bedrooms_ix, population_ix, households_ix = 3, 4, 5, 6\n",
        "\n",
        "class CombinedAttributesAdder(BaseEstimator, TransformerMixin):\n",
        "    def __init__(self, add_bedrooms_per_room = True):\n",
        "        self.add_bedrooms_per_room = add_bedrooms_per_room\n",
        "    def fit(self, X, y=None):\n",
        "        return self # bizni funksiyamiz faqat transformer. estimator emas\n",
        "    def transform(self, X):\n",
        "        rooms_per_household = X[:, rooms_ix] / X[:, households_ix]\n",
        "        population_per_household = X[:, population_ix] / X[:, households_ix]\n",
        "        if self.add_bedrooms_per_room: # add_bedrooms_per_room ustuni ixtiyoriy bo'ladi\n",
        "            bedrooms_per_room = X[:, bedrooms_ix] / X[:, rooms_ix]\n",
        "            return np.c_[X, rooms_per_household, population_per_household, bedrooms_per_room]\n",
        "        else:\n",
        "            return np.c_[X, rooms_per_household, population_per_household]"
      ]
    },
    {
      "cell_type": "markdown",
      "metadata": {
        "id": "rEIIlFUBrw7v"
      },
      "source": [
        "#### Sonli ustunlar uchun"
      ]
    },
    {
      "cell_type": "code",
      "execution_count": null,
      "metadata": {
        "id": "sUaS2l3frV-l"
      },
      "outputs": [],
      "source": [
        "from sklearn.pipeline import Pipeline\n",
        "from sklearn.impute import SimpleImputer\n",
        "from sklearn.preprocessing import OneHotEncoder, StandardScaler\n",
        "\n",
        "num_pipeline = Pipeline([\n",
        "          ('imputer', SimpleImputer(strategy='median')),\n",
        "          ('attribs_adder', CombinedAttributesAdder(add_bedrooms_per_room = True)),\n",
        "          ('std_scaler', StandardScaler())             \n",
        "])"
      ]
    },
    {
      "cell_type": "markdown",
      "metadata": {
        "id": "ZSlteFF-rw7w"
      },
      "source": [
        "#### Matnli ustunlar uchun"
      ]
    },
    {
      "cell_type": "code",
      "execution_count": null,
      "metadata": {
        "id": "8f6g6-gGuWl3"
      },
      "outputs": [],
      "source": [
        "from sklearn.compose import ColumnTransformer\n",
        "\n",
        "num_attribs = list(X_num)\n",
        "cat_attribs = ['ocean_proximity']\n",
        "\n",
        "full_pipeline = ColumnTransformer([\n",
        "    ('num', num_pipeline, num_attribs),\n",
        "    ('cat', OneHotEncoder(), cat_attribs)\n",
        "])"
      ]
    },
    {
      "cell_type": "markdown",
      "metadata": {
        "id": "oJGfKtAqW_zg"
      },
      "source": [
        "Mana yakuniy, to'liq konveyer tayyor bo'ldi (`full_pipeline`). \n",
        "\n",
        "Konveyerni ishga tushirish uchun `.fit_transform()` metodini chaqrisih kifoya."
      ]
    },
    {
      "cell_type": "code",
      "execution_count": null,
      "metadata": {
        "id": "uy7fbsNquvzE"
      },
      "outputs": [],
      "source": [
        "X_prepared = full_pipeline.fit_transform(X_train)"
      ]
    },
    {
      "cell_type": "code",
      "execution_count": null,
      "metadata": {
        "colab": {
          "base_uri": "https://localhost:8080/"
        },
        "id": "-dedYKcru5X9",
        "outputId": "57e8aca5-7ab2-4b2a-a8db-6a98fda54668"
      },
      "outputs": [
        {
          "data": {
            "text/plain": [
              "array([[ 1.27258656, -1.3728112 ,  0.34849025,  0.22256942,  0.21122752,\n",
              "         0.76827628,  0.32290591, -0.326196  , -0.17491646,  0.05137609,\n",
              "        -0.2117846 ,  0.        ,  0.        ,  0.        ,  0.        ,\n",
              "         1.        ],\n",
              "       [ 0.70916212, -0.87669601,  1.61811813,  0.34029326,  0.59309419,\n",
              "        -0.09890135,  0.6720272 , -0.03584338, -0.40283542, -0.11736222,\n",
              "         0.34218528,  0.        ,  0.        ,  0.        ,  0.        ,\n",
              "         1.        ],\n",
              "       [-0.44760309, -0.46014647, -1.95271028, -0.34259695, -0.49522582,\n",
              "        -0.44981806, -0.43046109,  0.14470145,  0.08821601, -0.03227969,\n",
              "        -0.66165785,  0.        ,  0.        ,  0.        ,  0.        ,\n",
              "         1.        ],\n",
              "       [ 1.23269811, -1.38217186,  0.58654547, -0.56148971, -0.40930582,\n",
              "        -0.00743434, -0.38058662, -1.01786438, -0.60001532,  0.07750687,\n",
              "         0.78303162,  0.        ,  0.        ,  0.        ,  0.        ,\n",
              "         1.        ],\n",
              "       [-0.10855122,  0.5320839 ,  1.14200767, -0.11956547, -0.25655915,\n",
              "        -0.48587717, -0.31496232, -0.17148831,  0.3490073 , -0.06883176,\n",
              "        -0.55036364,  0.        ,  1.        ,  0.        ,  0.        ,\n",
              "         0.        ]])"
            ]
          },
          "execution_count": 8,
          "metadata": {},
          "output_type": "execute_result"
        }
      ],
      "source": [
        "X_prepared[0:5,:]"
      ]
    },
    {
      "cell_type": "markdown",
      "metadata": {
        "id": "hLXRPZq9XD29"
      },
      "source": [
        "Ma'lumotlar ML uchun tayyor."
      ]
    },
    {
      "cell_type": "markdown",
      "metadata": {
        "id": "8wUr174Erw7z"
      },
      "source": [
        "### Machine Learning\n",
        "\n",
        "Bizning maqsadimiz bashorat qilish, buning uchun bir nechta ML algoritmlar mavjud.\n",
        "\n",
        "Biz kelgusi darslarda ularning har biri bilan yaqinda tanishamiz, hozir esa scikit-learn tarkibidagi ba'zi tayyor algoritmlardan foydalanamiz."
      ]
    },
    {
      "cell_type": "markdown",
      "metadata": {
        "id": "dUJcIahDrw7z"
      },
      "source": [
        "#### Linear Regression - Chiziqli regressiya\n",
        "`sklearn` tarkibidagi `LinearRegression` klassidan yangi model yaratamiz."
      ]
    },
    {
      "cell_type": "code",
      "execution_count": null,
      "metadata": {
        "id": "uRkVNLarrw7z"
      },
      "outputs": [],
      "source": [
        "from sklearn.linear_model import LinearRegression\n",
        "\n",
        "LR_model = LinearRegression()"
      ]
    },
    {
      "cell_type": "markdown",
      "metadata": {
        "id": "9G1L7Cj9rw7z"
      },
      "source": [
        "`LinearRegression` bu estimator. Estimatorlar ma'lumotlarni qabul qilib oladi va `.fit()` metodi yordamida ulardan basorat qilishni _o'rganadi_ (machine _learning_)"
      ]
    },
    {
      "cell_type": "code",
      "execution_count": null,
      "metadata": {
        "id": "L_7YeAPFrw70",
        "outputId": "0593e270-19cd-4451-ffe6-662d6a961679"
      },
      "outputs": [
        {
          "data": {
            "text/plain": [
              "LinearRegression()"
            ]
          },
          "execution_count": 10,
          "metadata": {},
          "output_type": "execute_result"
        }
      ],
      "source": [
        "LR_model.fit(X_prepared, y)"
      ]
    },
    {
      "cell_type": "markdown",
      "metadata": {
        "id": "Kk2wl14Zrw70"
      },
      "source": [
        "**TAMOM!** Machine Learning tugadi! Ha, adashmadingiz, bor yo'g'i 3 qator kod bilan biz hozirgina kompyuterga uylarni narxini bashorat qilishni o'rgatdik.\n",
        "\n",
        "Modelni qanday qilib tekshirib ko'rishimiz mumkin? Keling `housing` datasetdan biror qatorni modelga beramiz va chiqqan natijani bizdagi bor natija (label) bilan solishtiramiz."
      ]
    },
    {
      "cell_type": "code",
      "execution_count": null,
      "metadata": {
        "id": "v4V1Kq5nrw70",
        "outputId": "e4e6b207-ad64-4c5a-e4f0-540ecb4fc849"
      },
      "outputs": [
        {
          "data": {
            "text/html": [
              "<div>\n",
              "<style scoped>\n",
              "    .dataframe tbody tr th:only-of-type {\n",
              "        vertical-align: middle;\n",
              "    }\n",
              "\n",
              "    .dataframe tbody tr th {\n",
              "        vertical-align: top;\n",
              "    }\n",
              "\n",
              "    .dataframe thead th {\n",
              "        text-align: right;\n",
              "    }\n",
              "</style>\n",
              "<table border=\"1\" class=\"dataframe\">\n",
              "  <thead>\n",
              "    <tr style=\"text-align: right;\">\n",
              "      <th></th>\n",
              "      <th>longitude</th>\n",
              "      <th>latitude</th>\n",
              "      <th>housing_median_age</th>\n",
              "      <th>total_rooms</th>\n",
              "      <th>total_bedrooms</th>\n",
              "      <th>population</th>\n",
              "      <th>households</th>\n",
              "      <th>median_income</th>\n",
              "      <th>ocean_proximity</th>\n",
              "    </tr>\n",
              "  </thead>\n",
              "  <tbody>\n",
              "    <tr>\n",
              "      <th>6211</th>\n",
              "      <td>-117.89</td>\n",
              "      <td>34.07</td>\n",
              "      <td>35.0</td>\n",
              "      <td>834.0</td>\n",
              "      <td>137.0</td>\n",
              "      <td>392.0</td>\n",
              "      <td>123.0</td>\n",
              "      <td>4.5179</td>\n",
              "      <td>&lt;1H OCEAN</td>\n",
              "    </tr>\n",
              "    <tr>\n",
              "      <th>14295</th>\n",
              "      <td>-117.13</td>\n",
              "      <td>32.72</td>\n",
              "      <td>52.0</td>\n",
              "      <td>1560.0</td>\n",
              "      <td>307.0</td>\n",
              "      <td>757.0</td>\n",
              "      <td>315.0</td>\n",
              "      <td>2.7083</td>\n",
              "      <td>NEAR OCEAN</td>\n",
              "    </tr>\n",
              "    <tr>\n",
              "      <th>12320</th>\n",
              "      <td>-116.51</td>\n",
              "      <td>33.89</td>\n",
              "      <td>21.0</td>\n",
              "      <td>1284.0</td>\n",
              "      <td>306.0</td>\n",
              "      <td>537.0</td>\n",
              "      <td>233.0</td>\n",
              "      <td>1.9500</td>\n",
              "      <td>INLAND</td>\n",
              "    </tr>\n",
              "    <tr>\n",
              "      <th>19065</th>\n",
              "      <td>-122.46</td>\n",
              "      <td>38.29</td>\n",
              "      <td>21.0</td>\n",
              "      <td>2423.0</td>\n",
              "      <td>560.0</td>\n",
              "      <td>1098.0</td>\n",
              "      <td>503.0</td>\n",
              "      <td>2.3640</td>\n",
              "      <td>NEAR BAY</td>\n",
              "    </tr>\n",
              "    <tr>\n",
              "      <th>16727</th>\n",
              "      <td>-120.76</td>\n",
              "      <td>35.52</td>\n",
              "      <td>7.0</td>\n",
              "      <td>9613.0</td>\n",
              "      <td>1666.0</td>\n",
              "      <td>4487.0</td>\n",
              "      <td>1653.0</td>\n",
              "      <td>3.6667</td>\n",
              "      <td>&lt;1H OCEAN</td>\n",
              "    </tr>\n",
              "  </tbody>\n",
              "</table>\n",
              "</div>"
            ],
            "text/plain": [
              "       longitude  latitude  housing_median_age  total_rooms  total_bedrooms  \\\n",
              "6211     -117.89     34.07                35.0        834.0           137.0   \n",
              "14295    -117.13     32.72                52.0       1560.0           307.0   \n",
              "12320    -116.51     33.89                21.0       1284.0           306.0   \n",
              "19065    -122.46     38.29                21.0       2423.0           560.0   \n",
              "16727    -120.76     35.52                 7.0       9613.0          1666.0   \n",
              "\n",
              "       population  households  median_income ocean_proximity  \n",
              "6211        392.0       123.0         4.5179       <1H OCEAN  \n",
              "14295       757.0       315.0         2.7083      NEAR OCEAN  \n",
              "12320       537.0       233.0         1.9500          INLAND  \n",
              "19065      1098.0       503.0         2.3640        NEAR BAY  \n",
              "16727      4487.0      1653.0         3.6667       <1H OCEAN  "
            ]
          },
          "execution_count": 18,
          "metadata": {},
          "output_type": "execute_result"
        }
      ],
      "source": [
        "# tasodifiy 5 ta qatorni ajratib olamiz\n",
        "test_data = X_train.sample(5)\n",
        "test_data"
      ]
    },
    {
      "cell_type": "code",
      "execution_count": null,
      "metadata": {
        "id": "nuOxnvFTrw71",
        "outputId": "2ca6c90c-602c-4b6d-e020-2c2f822e5b95"
      },
      "outputs": [
        {
          "data": {
            "text/plain": [
              "6211     218800.0\n",
              "14295    199100.0\n",
              "12320     61000.0\n",
              "19065    173300.0\n",
              "16727    250600.0\n",
              "Name: median_house_value, dtype: float64"
            ]
          },
          "execution_count": 19,
          "metadata": {},
          "output_type": "execute_result"
        }
      ],
      "source": [
        "# yuqoridagi qatorlarga mos keluvchi narxlarni ajratib olamiz (biz aynan shu qiymatlarni bashorat qilishimiz kerak)\n",
        "test_label = y.loc[test_data.index]\n",
        "test_label"
      ]
    },
    {
      "cell_type": "markdown",
      "metadata": {
        "id": "D7OLkOG_rw71"
      },
      "source": [
        "`test_data` ni pipelinedan o'tkazib, bizga kerak ko'rinishga keltirib olamiz.\n",
        "\n",
        "**Ahamiyat bering** bu safgar biz `.transform()` metodini chaqiramiz, sababi `.fit()` metodini avval chaqirgan edik."
      ]
    },
    {
      "cell_type": "code",
      "execution_count": null,
      "metadata": {
        "id": "qtmgwiujrw71",
        "outputId": "daad7d96-351c-4ac3-da74-65b2c642e6e8"
      },
      "outputs": [
        {
          "data": {
            "text/plain": [
              "array([[ 0.84378566, -0.73628606,  0.50719373, -0.83142678, -0.95823916,\n",
              "        -0.90979159, -0.98958015,  0.33459385,  0.56350326,  0.00777575,\n",
              "        -0.83784003,  1.        ,  0.        ,  0.        ,  0.        ,\n",
              "         0.        ],\n",
              "       [ 1.22272599, -1.36813087,  1.85617335, -0.49756934, -0.55250582,\n",
              "        -0.58877756, -0.4855855 , -0.6157084 , -0.20225927, -0.0599208 ,\n",
              "        -0.27698044,  0.        ,  0.        ,  0.        ,  0.        ,\n",
              "         1.        ],\n",
              "       [ 1.53186153, -0.82053203, -0.60373066, -0.62449035, -0.55489249,\n",
              "        -0.78226547, -0.70083322, -1.01392579,  0.03162339, -0.06842401,\n",
              "         0.43900995,  0.        ,  1.        ,  0.        ,  0.        ,\n",
              "         0.        ],\n",
              "       [-1.43484237,  1.23881402, -0.60373066, -0.10071126,  0.05132085,\n",
              "        -0.2888713 ,  0.00790925, -0.7965158 , -0.25892721, -0.0789452 ,\n",
              "         0.31487031,  0.        ,  0.        ,  0.        ,  1.        ,\n",
              "         0.        ],\n",
              "       [-0.58721269, -0.05763792, -1.71465506,  3.20567298,  2.69097422,\n",
              "         2.691722  ,  3.02662719, -0.11240951,  0.15928101, -0.0330359 ,\n",
              "        -0.68198853,  1.        ,  0.        ,  0.        ,  0.        ,\n",
              "         0.        ]])"
            ]
          },
          "execution_count": 20,
          "metadata": {},
          "output_type": "execute_result"
        }
      ],
      "source": [
        "test_data_prepared = full_pipeline.transform(test_data)\n",
        "test_data_prepared"
      ]
    },
    {
      "cell_type": "markdown",
      "metadata": {
        "id": "0ty1oasGrw71"
      },
      "source": [
        "Bashorat (predict) qilamiz:"
      ]
    },
    {
      "cell_type": "code",
      "execution_count": null,
      "metadata": {
        "id": "DV4RvI3Vrw71",
        "outputId": "dfd75de0-b390-40f0-fd93-4a967aa6b89c"
      },
      "outputs": [
        {
          "data": {
            "text/plain": [
              "array([228852.74349408, 203387.28874123,  64236.23414498, 168843.70532715,\n",
              "       241650.14389617])"
            ]
          },
          "execution_count": 21,
          "metadata": {},
          "output_type": "execute_result"
        }
      ],
      "source": [
        "predicted_data = LR_model.predict(test_data_prepared)\n",
        "predicted_data"
      ]
    },
    {
      "cell_type": "markdown",
      "metadata": {
        "id": "cGeuYrcwrw72"
      },
      "source": [
        "Yuoqirda ko'rib turganingiz bashorat qilingan qiymatlar. Xo'sh, ular real qiymatlardan qanday farq qiladi, solishtiramiz:"
      ]
    },
    {
      "cell_type": "code",
      "execution_count": null,
      "metadata": {
        "id": "1w4IxYf6rw72",
        "outputId": "fb18f862-bd7b-41bd-b65c-9382f1d58947"
      },
      "outputs": [
        {
          "data": {
            "text/html": [
              "<div>\n",
              "<style scoped>\n",
              "    .dataframe tbody tr th:only-of-type {\n",
              "        vertical-align: middle;\n",
              "    }\n",
              "\n",
              "    .dataframe tbody tr th {\n",
              "        vertical-align: top;\n",
              "    }\n",
              "\n",
              "    .dataframe thead th {\n",
              "        text-align: right;\n",
              "    }\n",
              "</style>\n",
              "<table border=\"1\" class=\"dataframe\">\n",
              "  <thead>\n",
              "    <tr style=\"text-align: right;\">\n",
              "      <th></th>\n",
              "      <th>Prognoz</th>\n",
              "      <th>Real baxosi</th>\n",
              "    </tr>\n",
              "  </thead>\n",
              "  <tbody>\n",
              "    <tr>\n",
              "      <th>6211</th>\n",
              "      <td>228852.743494</td>\n",
              "      <td>218800.0</td>\n",
              "    </tr>\n",
              "    <tr>\n",
              "      <th>14295</th>\n",
              "      <td>203387.288741</td>\n",
              "      <td>199100.0</td>\n",
              "    </tr>\n",
              "    <tr>\n",
              "      <th>12320</th>\n",
              "      <td>64236.234145</td>\n",
              "      <td>61000.0</td>\n",
              "    </tr>\n",
              "    <tr>\n",
              "      <th>19065</th>\n",
              "      <td>168843.705327</td>\n",
              "      <td>173300.0</td>\n",
              "    </tr>\n",
              "    <tr>\n",
              "      <th>16727</th>\n",
              "      <td>241650.143896</td>\n",
              "      <td>250600.0</td>\n",
              "    </tr>\n",
              "  </tbody>\n",
              "</table>\n",
              "</div>"
            ],
            "text/plain": [
              "             Prognoz  Real baxosi\n",
              "6211   228852.743494     218800.0\n",
              "14295  203387.288741     199100.0\n",
              "12320   64236.234145      61000.0\n",
              "19065  168843.705327     173300.0\n",
              "16727  241650.143896     250600.0"
            ]
          },
          "execution_count": 22,
          "metadata": {},
          "output_type": "execute_result"
        }
      ],
      "source": [
        "pd.DataFrame({'Prognoz':predicted_data, 'Real baxosi': test_label})"
      ]
    },
    {
      "cell_type": "markdown",
      "metadata": {
        "id": "LE2Htbchrw73"
      },
      "source": [
        "### 5-QADAM. Modelni baholaymiz"
      ]
    },
    {
      "cell_type": "markdown",
      "metadata": {
        "id": "_RsX_D6Grw73"
      },
      "source": [
        "Ko'rib turganingizdek, modelimiz qayerdadur kamroq, qayeradur ko'proq xato bilan bashorat qilgan. \n",
        "Lekin model aniqligini baxolash uchun 5 qator yetarli emas. Keling, avvalroq ajratib olgan test set yordamida sinab ko'ramiz:"
      ]
    },
    {
      "cell_type": "code",
      "execution_count": null,
      "metadata": {
        "id": "epzjJi4vrw73",
        "outputId": "72ef9d8e-9671-4e0f-fb6d-fffc63e35092"
      },
      "outputs": [
        {
          "data": {
            "text/html": [
              "<div>\n",
              "<style scoped>\n",
              "    .dataframe tbody tr th:only-of-type {\n",
              "        vertical-align: middle;\n",
              "    }\n",
              "\n",
              "    .dataframe tbody tr th {\n",
              "        vertical-align: top;\n",
              "    }\n",
              "\n",
              "    .dataframe thead th {\n",
              "        text-align: right;\n",
              "    }\n",
              "</style>\n",
              "<table border=\"1\" class=\"dataframe\">\n",
              "  <thead>\n",
              "    <tr style=\"text-align: right;\">\n",
              "      <th></th>\n",
              "      <th>longitude</th>\n",
              "      <th>latitude</th>\n",
              "      <th>housing_median_age</th>\n",
              "      <th>total_rooms</th>\n",
              "      <th>total_bedrooms</th>\n",
              "      <th>population</th>\n",
              "      <th>households</th>\n",
              "      <th>median_income</th>\n",
              "      <th>median_house_value</th>\n",
              "      <th>ocean_proximity</th>\n",
              "    </tr>\n",
              "  </thead>\n",
              "  <tbody>\n",
              "    <tr>\n",
              "      <th>20046</th>\n",
              "      <td>-119.01</td>\n",
              "      <td>36.06</td>\n",
              "      <td>25.0</td>\n",
              "      <td>1505.0</td>\n",
              "      <td>NaN</td>\n",
              "      <td>1392.0</td>\n",
              "      <td>359.0</td>\n",
              "      <td>1.6812</td>\n",
              "      <td>47700.0</td>\n",
              "      <td>INLAND</td>\n",
              "    </tr>\n",
              "    <tr>\n",
              "      <th>3024</th>\n",
              "      <td>-119.46</td>\n",
              "      <td>35.14</td>\n",
              "      <td>30.0</td>\n",
              "      <td>2943.0</td>\n",
              "      <td>NaN</td>\n",
              "      <td>1565.0</td>\n",
              "      <td>584.0</td>\n",
              "      <td>2.5313</td>\n",
              "      <td>45800.0</td>\n",
              "      <td>INLAND</td>\n",
              "    </tr>\n",
              "    <tr>\n",
              "      <th>15663</th>\n",
              "      <td>-122.44</td>\n",
              "      <td>37.80</td>\n",
              "      <td>52.0</td>\n",
              "      <td>3830.0</td>\n",
              "      <td>NaN</td>\n",
              "      <td>1310.0</td>\n",
              "      <td>963.0</td>\n",
              "      <td>3.4801</td>\n",
              "      <td>500001.0</td>\n",
              "      <td>NEAR BAY</td>\n",
              "    </tr>\n",
              "    <tr>\n",
              "      <th>20484</th>\n",
              "      <td>-118.72</td>\n",
              "      <td>34.28</td>\n",
              "      <td>17.0</td>\n",
              "      <td>3051.0</td>\n",
              "      <td>NaN</td>\n",
              "      <td>1705.0</td>\n",
              "      <td>495.0</td>\n",
              "      <td>5.7376</td>\n",
              "      <td>218600.0</td>\n",
              "      <td>&lt;1H OCEAN</td>\n",
              "    </tr>\n",
              "    <tr>\n",
              "      <th>9814</th>\n",
              "      <td>-121.93</td>\n",
              "      <td>36.62</td>\n",
              "      <td>34.0</td>\n",
              "      <td>2351.0</td>\n",
              "      <td>NaN</td>\n",
              "      <td>1063.0</td>\n",
              "      <td>428.0</td>\n",
              "      <td>3.7250</td>\n",
              "      <td>278000.0</td>\n",
              "      <td>NEAR OCEAN</td>\n",
              "    </tr>\n",
              "    <tr>\n",
              "      <th>...</th>\n",
              "      <td>...</td>\n",
              "      <td>...</td>\n",
              "      <td>...</td>\n",
              "      <td>...</td>\n",
              "      <td>...</td>\n",
              "      <td>...</td>\n",
              "      <td>...</td>\n",
              "      <td>...</td>\n",
              "      <td>...</td>\n",
              "      <td>...</td>\n",
              "    </tr>\n",
              "    <tr>\n",
              "      <th>15362</th>\n",
              "      <td>-117.22</td>\n",
              "      <td>33.36</td>\n",
              "      <td>16.0</td>\n",
              "      <td>3165.0</td>\n",
              "      <td>482.0</td>\n",
              "      <td>1351.0</td>\n",
              "      <td>452.0</td>\n",
              "      <td>4.6050</td>\n",
              "      <td>263300.0</td>\n",
              "      <td>&lt;1H OCEAN</td>\n",
              "    </tr>\n",
              "    <tr>\n",
              "      <th>16623</th>\n",
              "      <td>-120.83</td>\n",
              "      <td>35.36</td>\n",
              "      <td>28.0</td>\n",
              "      <td>4323.0</td>\n",
              "      <td>886.0</td>\n",
              "      <td>1650.0</td>\n",
              "      <td>705.0</td>\n",
              "      <td>2.7266</td>\n",
              "      <td>266800.0</td>\n",
              "      <td>NEAR OCEAN</td>\n",
              "    </tr>\n",
              "    <tr>\n",
              "      <th>18086</th>\n",
              "      <td>-122.05</td>\n",
              "      <td>37.31</td>\n",
              "      <td>25.0</td>\n",
              "      <td>4111.0</td>\n",
              "      <td>538.0</td>\n",
              "      <td>1585.0</td>\n",
              "      <td>568.0</td>\n",
              "      <td>9.2298</td>\n",
              "      <td>500001.0</td>\n",
              "      <td>&lt;1H OCEAN</td>\n",
              "    </tr>\n",
              "    <tr>\n",
              "      <th>2144</th>\n",
              "      <td>-119.76</td>\n",
              "      <td>36.77</td>\n",
              "      <td>36.0</td>\n",
              "      <td>2507.0</td>\n",
              "      <td>466.0</td>\n",
              "      <td>1227.0</td>\n",
              "      <td>474.0</td>\n",
              "      <td>2.7850</td>\n",
              "      <td>72300.0</td>\n",
              "      <td>INLAND</td>\n",
              "    </tr>\n",
              "    <tr>\n",
              "      <th>3665</th>\n",
              "      <td>-118.37</td>\n",
              "      <td>34.22</td>\n",
              "      <td>17.0</td>\n",
              "      <td>1787.0</td>\n",
              "      <td>463.0</td>\n",
              "      <td>1671.0</td>\n",
              "      <td>448.0</td>\n",
              "      <td>3.5521</td>\n",
              "      <td>151500.0</td>\n",
              "      <td>&lt;1H OCEAN</td>\n",
              "    </tr>\n",
              "  </tbody>\n",
              "</table>\n",
              "<p>4128 rows × 10 columns</p>\n",
              "</div>"
            ],
            "text/plain": [
              "       longitude  latitude  housing_median_age  total_rooms  total_bedrooms  \\\n",
              "20046    -119.01     36.06                25.0       1505.0             NaN   \n",
              "3024     -119.46     35.14                30.0       2943.0             NaN   \n",
              "15663    -122.44     37.80                52.0       3830.0             NaN   \n",
              "20484    -118.72     34.28                17.0       3051.0             NaN   \n",
              "9814     -121.93     36.62                34.0       2351.0             NaN   \n",
              "...          ...       ...                 ...          ...             ...   \n",
              "15362    -117.22     33.36                16.0       3165.0           482.0   \n",
              "16623    -120.83     35.36                28.0       4323.0           886.0   \n",
              "18086    -122.05     37.31                25.0       4111.0           538.0   \n",
              "2144     -119.76     36.77                36.0       2507.0           466.0   \n",
              "3665     -118.37     34.22                17.0       1787.0           463.0   \n",
              "\n",
              "       population  households  median_income  median_house_value  \\\n",
              "20046      1392.0       359.0         1.6812             47700.0   \n",
              "3024       1565.0       584.0         2.5313             45800.0   \n",
              "15663      1310.0       963.0         3.4801            500001.0   \n",
              "20484      1705.0       495.0         5.7376            218600.0   \n",
              "9814       1063.0       428.0         3.7250            278000.0   \n",
              "...           ...         ...            ...                 ...   \n",
              "15362      1351.0       452.0         4.6050            263300.0   \n",
              "16623      1650.0       705.0         2.7266            266800.0   \n",
              "18086      1585.0       568.0         9.2298            500001.0   \n",
              "2144       1227.0       474.0         2.7850             72300.0   \n",
              "3665       1671.0       448.0         3.5521            151500.0   \n",
              "\n",
              "      ocean_proximity  \n",
              "20046          INLAND  \n",
              "3024           INLAND  \n",
              "15663        NEAR BAY  \n",
              "20484       <1H OCEAN  \n",
              "9814       NEAR OCEAN  \n",
              "...               ...  \n",
              "15362       <1H OCEAN  \n",
              "16623      NEAR OCEAN  \n",
              "18086       <1H OCEAN  \n",
              "2144           INLAND  \n",
              "3665        <1H OCEAN  \n",
              "\n",
              "[4128 rows x 10 columns]"
            ]
          },
          "execution_count": 23,
          "metadata": {},
          "output_type": "execute_result"
        }
      ],
      "source": [
        "test_set"
      ]
    },
    {
      "cell_type": "markdown",
      "metadata": {
        "id": "ZewZO9kVrw73"
      },
      "source": [
        "Avval predictor ustunlarni ajratib olaylik (`median_house_value`) dan boshqa barcha ustunlar):"
      ]
    },
    {
      "cell_type": "code",
      "execution_count": null,
      "metadata": {
        "id": "5sX6X93vrw73",
        "outputId": "92ab998f-a825-4ac5-e29b-347d972b2506"
      },
      "outputs": [
        {
          "data": {
            "text/html": [
              "<div>\n",
              "<style scoped>\n",
              "    .dataframe tbody tr th:only-of-type {\n",
              "        vertical-align: middle;\n",
              "    }\n",
              "\n",
              "    .dataframe tbody tr th {\n",
              "        vertical-align: top;\n",
              "    }\n",
              "\n",
              "    .dataframe thead th {\n",
              "        text-align: right;\n",
              "    }\n",
              "</style>\n",
              "<table border=\"1\" class=\"dataframe\">\n",
              "  <thead>\n",
              "    <tr style=\"text-align: right;\">\n",
              "      <th></th>\n",
              "      <th>longitude</th>\n",
              "      <th>latitude</th>\n",
              "      <th>housing_median_age</th>\n",
              "      <th>total_rooms</th>\n",
              "      <th>total_bedrooms</th>\n",
              "      <th>population</th>\n",
              "      <th>households</th>\n",
              "      <th>median_income</th>\n",
              "      <th>ocean_proximity</th>\n",
              "    </tr>\n",
              "  </thead>\n",
              "  <tbody>\n",
              "    <tr>\n",
              "      <th>20046</th>\n",
              "      <td>-119.01</td>\n",
              "      <td>36.06</td>\n",
              "      <td>25.0</td>\n",
              "      <td>1505.0</td>\n",
              "      <td>NaN</td>\n",
              "      <td>1392.0</td>\n",
              "      <td>359.0</td>\n",
              "      <td>1.6812</td>\n",
              "      <td>INLAND</td>\n",
              "    </tr>\n",
              "    <tr>\n",
              "      <th>3024</th>\n",
              "      <td>-119.46</td>\n",
              "      <td>35.14</td>\n",
              "      <td>30.0</td>\n",
              "      <td>2943.0</td>\n",
              "      <td>NaN</td>\n",
              "      <td>1565.0</td>\n",
              "      <td>584.0</td>\n",
              "      <td>2.5313</td>\n",
              "      <td>INLAND</td>\n",
              "    </tr>\n",
              "    <tr>\n",
              "      <th>15663</th>\n",
              "      <td>-122.44</td>\n",
              "      <td>37.80</td>\n",
              "      <td>52.0</td>\n",
              "      <td>3830.0</td>\n",
              "      <td>NaN</td>\n",
              "      <td>1310.0</td>\n",
              "      <td>963.0</td>\n",
              "      <td>3.4801</td>\n",
              "      <td>NEAR BAY</td>\n",
              "    </tr>\n",
              "    <tr>\n",
              "      <th>20484</th>\n",
              "      <td>-118.72</td>\n",
              "      <td>34.28</td>\n",
              "      <td>17.0</td>\n",
              "      <td>3051.0</td>\n",
              "      <td>NaN</td>\n",
              "      <td>1705.0</td>\n",
              "      <td>495.0</td>\n",
              "      <td>5.7376</td>\n",
              "      <td>&lt;1H OCEAN</td>\n",
              "    </tr>\n",
              "    <tr>\n",
              "      <th>9814</th>\n",
              "      <td>-121.93</td>\n",
              "      <td>36.62</td>\n",
              "      <td>34.0</td>\n",
              "      <td>2351.0</td>\n",
              "      <td>NaN</td>\n",
              "      <td>1063.0</td>\n",
              "      <td>428.0</td>\n",
              "      <td>3.7250</td>\n",
              "      <td>NEAR OCEAN</td>\n",
              "    </tr>\n",
              "    <tr>\n",
              "      <th>...</th>\n",
              "      <td>...</td>\n",
              "      <td>...</td>\n",
              "      <td>...</td>\n",
              "      <td>...</td>\n",
              "      <td>...</td>\n",
              "      <td>...</td>\n",
              "      <td>...</td>\n",
              "      <td>...</td>\n",
              "      <td>...</td>\n",
              "    </tr>\n",
              "    <tr>\n",
              "      <th>15362</th>\n",
              "      <td>-117.22</td>\n",
              "      <td>33.36</td>\n",
              "      <td>16.0</td>\n",
              "      <td>3165.0</td>\n",
              "      <td>482.0</td>\n",
              "      <td>1351.0</td>\n",
              "      <td>452.0</td>\n",
              "      <td>4.6050</td>\n",
              "      <td>&lt;1H OCEAN</td>\n",
              "    </tr>\n",
              "    <tr>\n",
              "      <th>16623</th>\n",
              "      <td>-120.83</td>\n",
              "      <td>35.36</td>\n",
              "      <td>28.0</td>\n",
              "      <td>4323.0</td>\n",
              "      <td>886.0</td>\n",
              "      <td>1650.0</td>\n",
              "      <td>705.0</td>\n",
              "      <td>2.7266</td>\n",
              "      <td>NEAR OCEAN</td>\n",
              "    </tr>\n",
              "    <tr>\n",
              "      <th>18086</th>\n",
              "      <td>-122.05</td>\n",
              "      <td>37.31</td>\n",
              "      <td>25.0</td>\n",
              "      <td>4111.0</td>\n",
              "      <td>538.0</td>\n",
              "      <td>1585.0</td>\n",
              "      <td>568.0</td>\n",
              "      <td>9.2298</td>\n",
              "      <td>&lt;1H OCEAN</td>\n",
              "    </tr>\n",
              "    <tr>\n",
              "      <th>2144</th>\n",
              "      <td>-119.76</td>\n",
              "      <td>36.77</td>\n",
              "      <td>36.0</td>\n",
              "      <td>2507.0</td>\n",
              "      <td>466.0</td>\n",
              "      <td>1227.0</td>\n",
              "      <td>474.0</td>\n",
              "      <td>2.7850</td>\n",
              "      <td>INLAND</td>\n",
              "    </tr>\n",
              "    <tr>\n",
              "      <th>3665</th>\n",
              "      <td>-118.37</td>\n",
              "      <td>34.22</td>\n",
              "      <td>17.0</td>\n",
              "      <td>1787.0</td>\n",
              "      <td>463.0</td>\n",
              "      <td>1671.0</td>\n",
              "      <td>448.0</td>\n",
              "      <td>3.5521</td>\n",
              "      <td>&lt;1H OCEAN</td>\n",
              "    </tr>\n",
              "  </tbody>\n",
              "</table>\n",
              "<p>4128 rows × 9 columns</p>\n",
              "</div>"
            ],
            "text/plain": [
              "       longitude  latitude  housing_median_age  total_rooms  total_bedrooms  \\\n",
              "20046    -119.01     36.06                25.0       1505.0             NaN   \n",
              "3024     -119.46     35.14                30.0       2943.0             NaN   \n",
              "15663    -122.44     37.80                52.0       3830.0             NaN   \n",
              "20484    -118.72     34.28                17.0       3051.0             NaN   \n",
              "9814     -121.93     36.62                34.0       2351.0             NaN   \n",
              "...          ...       ...                 ...          ...             ...   \n",
              "15362    -117.22     33.36                16.0       3165.0           482.0   \n",
              "16623    -120.83     35.36                28.0       4323.0           886.0   \n",
              "18086    -122.05     37.31                25.0       4111.0           538.0   \n",
              "2144     -119.76     36.77                36.0       2507.0           466.0   \n",
              "3665     -118.37     34.22                17.0       1787.0           463.0   \n",
              "\n",
              "       population  households  median_income ocean_proximity  \n",
              "20046      1392.0       359.0         1.6812          INLAND  \n",
              "3024       1565.0       584.0         2.5313          INLAND  \n",
              "15663      1310.0       963.0         3.4801        NEAR BAY  \n",
              "20484      1705.0       495.0         5.7376       <1H OCEAN  \n",
              "9814       1063.0       428.0         3.7250      NEAR OCEAN  \n",
              "...           ...         ...            ...             ...  \n",
              "15362      1351.0       452.0         4.6050       <1H OCEAN  \n",
              "16623      1650.0       705.0         2.7266      NEAR OCEAN  \n",
              "18086      1585.0       568.0         9.2298       <1H OCEAN  \n",
              "2144       1227.0       474.0         2.7850          INLAND  \n",
              "3665       1671.0       448.0         3.5521       <1H OCEAN  \n",
              "\n",
              "[4128 rows x 9 columns]"
            ]
          },
          "execution_count": 24,
          "metadata": {},
          "output_type": "execute_result"
        }
      ],
      "source": [
        "X_test = test_set.drop('median_house_value', axis=1)\n",
        "X_test"
      ]
    },
    {
      "cell_type": "markdown",
      "metadata": {
        "id": "SGctcgVArw74"
      },
      "source": [
        "Label (`median_house_value`) ustunini ajratib olamiz."
      ]
    },
    {
      "cell_type": "code",
      "execution_count": null,
      "metadata": {
        "id": "KEYEy4O8rw74",
        "outputId": "dd642527-8f57-4afd-af66-fc7a89c08dbc"
      },
      "outputs": [
        {
          "data": {
            "text/plain": [
              "20046     47700.0\n",
              "3024      45800.0\n",
              "15663    500001.0\n",
              "20484    218600.0\n",
              "9814     278000.0\n",
              "           ...   \n",
              "15362    263300.0\n",
              "16623    266800.0\n",
              "18086    500001.0\n",
              "2144      72300.0\n",
              "3665     151500.0\n",
              "Name: median_house_value, Length: 4128, dtype: float64"
            ]
          },
          "execution_count": 25,
          "metadata": {},
          "output_type": "execute_result"
        }
      ],
      "source": [
        "y_test = test_set['median_house_value'].copy()\n",
        "y_test"
      ]
    },
    {
      "cell_type": "markdown",
      "metadata": {
        "id": "I_rlWT-Hrw74"
      },
      "source": [
        "`test_set` ni ham pipelinedan o'tkazamiz:"
      ]
    },
    {
      "cell_type": "code",
      "execution_count": null,
      "metadata": {
        "id": "i9DD71c1rw8A"
      },
      "outputs": [],
      "source": [
        "X_test_prepared = full_pipeline.transform(X_test)"
      ]
    },
    {
      "cell_type": "markdown",
      "metadata": {
        "id": "tbwjRss-rw8A"
      },
      "source": [
        "Bashorat"
      ]
    },
    {
      "cell_type": "code",
      "execution_count": null,
      "metadata": {
        "id": "PXHJZd-1rw8A"
      },
      "outputs": [],
      "source": [
        "y_predicted = LR_model.predict(X_test_prepared)"
      ]
    },
    {
      "cell_type": "markdown",
      "metadata": {
        "id": "Vrh2YQ4srw8A"
      },
      "source": [
        "Bashorat va real datani solishtirish uchun avvalgi bo'limda ko'rgan Root mean square error (RMSE) dan foydalanamiz:"
      ]
    },
    {
      "cell_type": "code",
      "execution_count": null,
      "metadata": {
        "id": "XklPkW3Brw8A",
        "outputId": "48b59ed6-ee7c-41c6-d4bc-b13223c337ef"
      },
      "outputs": [
        {
          "name": "stdout",
          "output_type": "stream",
          "text": [
            "72701.32600762139\n"
          ]
        }
      ],
      "source": [
        "from sklearn.metrics import mean_squared_error\n",
        "lin_mse = mean_squared_error(y_test, y_predicted)\n",
        "# RMSE hisoblaymiz\n",
        "lin_rmse = np.sqrt(lin_mse)\n",
        "print(lin_rmse)"
      ]
    },
    {
      "cell_type": "markdown",
      "metadata": {
        "id": "EGXm1YzVrw8B"
      },
      "source": [
        "Demak, `RMSE=72701$` chiqdi. Yomon emas, lekin yaxshi ham emas. Ya'ni modelimiz uylarni baholashda o'rtacha `72000$` ga adashayapti. \n",
        "\n",
        "Model aniqligini oshirish uchun yagona, universal yechim yo'q. Qilib ko'rishingiz mumkin bo'lgan ishlar:\n",
        "- Yaxhsiroq paramterlar topish\n",
        "- Yaxhsiroq model (algoritm) tanlash\n",
        "- Ko'proq ma'lumot yig'ish va hokazo.\n",
        "\n",
        "Biz hozir boshqa model bilan sinab ko'ramiz.\n",
        "\n",
        "### DecisionTree"
      ]
    },
    {
      "cell_type": "code",
      "execution_count": null,
      "metadata": {
        "id": "ppCM2M4jrw8B",
        "outputId": "d24ae605-7c3c-473b-a471-632ed1d4314d"
      },
      "outputs": [
        {
          "data": {
            "text/plain": [
              "DecisionTreeRegressor()"
            ]
          },
          "execution_count": 29,
          "metadata": {},
          "output_type": "execute_result"
        }
      ],
      "source": [
        "from sklearn.tree import DecisionTreeRegressor\n",
        "Tree_model = DecisionTreeRegressor()\n",
        "Tree_model.fit(X_prepared, y)"
      ]
    },
    {
      "cell_type": "markdown",
      "metadata": {
        "id": "9yuOLxcurw8B"
      },
      "source": [
        "Modelni tekshiramiz:"
      ]
    },
    {
      "cell_type": "code",
      "execution_count": null,
      "metadata": {
        "id": "zjYnSQiprw8B"
      },
      "outputs": [],
      "source": [
        "y_predicted = Tree_model.predict(X_test_prepared)"
      ]
    },
    {
      "cell_type": "code",
      "execution_count": null,
      "metadata": {
        "id": "_vbyAnWirw8C",
        "outputId": "e9614438-ae74-4310-d396-7fd07a8e41a9"
      },
      "outputs": [
        {
          "name": "stdout",
          "output_type": "stream",
          "text": [
            "72562.00852508846\n"
          ]
        }
      ],
      "source": [
        "lin_mse = mean_squared_error(y_test, y_predicted)\n",
        "# RMSE hisoblaymiz\n",
        "lin_rmse = np.sqrt(lin_mse)\n",
        "print(lin_rmse)"
      ]
    },
    {
      "cell_type": "markdown",
      "metadata": {
        "id": "Sevi37UErw8C"
      },
      "source": [
        "Avvalgidan katta farq qilmadi."
      ]
    },
    {
      "cell_type": "markdown",
      "metadata": {
        "id": "M7smJZc6rw8C"
      },
      "source": [
        "### RandomForest"
      ]
    },
    {
      "cell_type": "code",
      "execution_count": null,
      "metadata": {
        "id": "c4acGNT-rw8C",
        "outputId": "d74e8e2d-123b-41cf-bdae-7b24427f1f26"
      },
      "outputs": [
        {
          "data": {
            "text/plain": [
              "RandomForestRegressor()"
            ]
          },
          "execution_count": 35,
          "metadata": {},
          "output_type": "execute_result"
        }
      ],
      "source": [
        "from sklearn.ensemble import RandomForestRegressor\n",
        "RF_model = RandomForestRegressor()\n",
        "RF_model.fit(X_prepared, y)"
      ]
    },
    {
      "cell_type": "markdown",
      "metadata": {
        "id": "zqtYDJpErw8D"
      },
      "source": [
        "Modelni tekshiramiz:"
      ]
    },
    {
      "cell_type": "code",
      "execution_count": null,
      "metadata": {
        "id": "O56wJ-KSrw8D",
        "outputId": "fd73eba9-79c7-4956-9d7c-302b80951efb"
      },
      "outputs": [
        {
          "name": "stdout",
          "output_type": "stream",
          "text": [
            "50331.07889872079\n"
          ]
        }
      ],
      "source": [
        "y_predicted = RF_model.predict(X_test_prepared)\n",
        "lin_mse = mean_squared_error(y_test, y_predicted)\n",
        "# RMSE hisoblaymiz\n",
        "lin_rmse = np.sqrt(lin_mse)\n",
        "print(lin_rmse)"
      ]
    },
    {
      "cell_type": "markdown",
      "metadata": {
        "id": "qFHFfG4wrw8D"
      },
      "source": [
        "Avvalgidan yaxhsiroq."
      ]
    },
    {
      "cell_type": "markdown",
      "metadata": {
        "id": "IL7DBjJyrw8D"
      },
      "source": [
        "## Cross-Validation usuli bilan baholash\n",
        "\n",
        "Yuqorida biz modelni baholash uchun ma'lumotlarni test va train setlarga ajratdik. \n",
        "Bu usulning kamchiligi biz test va train uchun doim bir xil ma'lumotlardan foydalanayapmiz. \n",
        "\n",
        "Cross-validation yordamida biz ma'lumotlarni bir necha qismga ajratib, modelni turli qismlar yordamida bir nechta bor train va test qilishimiz mumkin. \n",
        "\n",
        "Misol uchun, quyidagi rasmda ma'lumotlarni 5 ga ajratib train va test qilish ko'rsatilgan.\n",
        "\n",
        "![](https://www.oreilly.com/library/view/machine-learning-quick/9781788830577/assets/b90b29ab-dfe7-4c11-9a2f-321e84f79495.png)"
      ]
    },
    {
      "cell_type": "markdown",
      "metadata": {
        "id": "hL5RU8zTrw8D"
      },
      "source": [
        "Cross validation uchun ma'lumotlarni train va testga bo'lish shart emas, buni sklearn o'zi qiladi."
      ]
    },
    {
      "cell_type": "code",
      "execution_count": null,
      "metadata": {
        "id": "4tXA2N7irw8D"
      },
      "outputs": [],
      "source": [
        "X = df.drop(\"median_house_value\", axis=1)\n",
        "y = df[\"median_house_value\"].copy()\n",
        "\n",
        "X_prepared = full_pipeline.transform(X)"
      ]
    },
    {
      "cell_type": "markdown",
      "metadata": {
        "id": "-zO2zg7hrw8D"
      },
      "source": [
        "Validation natijalarini ko'rsatish uchun sodda funksiya yasab olamiz"
      ]
    },
    {
      "cell_type": "code",
      "execution_count": null,
      "metadata": {
        "id": "Mo1Vhov-rw8D"
      },
      "outputs": [],
      "source": [
        "def display_scores(scores):\n",
        "    print(\"Scores:\", scores)\n",
        "    print(\"Mean:\", scores.mean())\n",
        "    print(\"Std.dev:\", scores.std())"
      ]
    },
    {
      "cell_type": "markdown",
      "metadata": {
        "id": "ta-1MEK2rw8E"
      },
      "source": [
        "#### Cross-validation"
      ]
    },
    {
      "cell_type": "code",
      "execution_count": null,
      "metadata": {
        "id": "et47teNZrw8E"
      },
      "outputs": [],
      "source": [
        "from sklearn.model_selection import cross_val_score"
      ]
    },
    {
      "cell_type": "markdown",
      "metadata": {
        "id": "tsu3EkFyrw8E"
      },
      "source": [
        "#### LogisticRegression"
      ]
    },
    {
      "cell_type": "code",
      "execution_count": null,
      "metadata": {
        "id": "oqBTZSZ6rw8E"
      },
      "outputs": [],
      "source": [
        "scores = cross_val_score(LR_model, X_prepared, y, scoring=\"neg_mean_squared_error\", cv=10)\n",
        "LR_rmse_scores = np.sqrt(-scores)"
      ]
    },
    {
      "cell_type": "code",
      "execution_count": null,
      "metadata": {
        "id": "N7PVDJjSrw8E",
        "outputId": "6eea5d9d-199d-4e4c-abd9-ddf86d65983d"
      },
      "outputs": [
        {
          "name": "stdout",
          "output_type": "stream",
          "text": [
            "Scores: [73394.92502922 74814.24096819 75431.93119241 76608.78768825\n",
            " 66196.48128669]\n",
            "Mean: 73289.27323295096\n",
            "Std.dev: 3694.713678722354\n"
          ]
        }
      ],
      "source": [
        "display_scores(LR_rmse_scores)"
      ]
    },
    {
      "cell_type": "markdown",
      "metadata": {
        "id": "Z93chRi2rw8F"
      },
      "source": [
        "#### Decision Tree"
      ]
    },
    {
      "cell_type": "code",
      "execution_count": null,
      "metadata": {
        "id": "Iy4kVqQurw8F",
        "outputId": "0c37166c-fe33-4f48-e688-e1e307b84f9b"
      },
      "outputs": [
        {
          "name": "stdout",
          "output_type": "stream",
          "text": [
            "Scores: [117426.24650262  71236.93347566  84784.96821511  74123.27730087\n",
            "  89750.15887077  76806.63059624  69589.05516706 102133.30525079\n",
            "  95246.44610184  75049.59397392]\n",
            "Mean: 85614.66154548783\n",
            "Std.dev: 14765.492299059766\n"
          ]
        }
      ],
      "source": [
        "scores = cross_val_score(Tree_model, X_prepared, y, scoring=\"neg_mean_squared_error\", cv=10)\n",
        "LR_rmse_scores = np.sqrt(-scores)\n",
        "display_scores(LR_rmse_scores)"
      ]
    },
    {
      "cell_type": "markdown",
      "metadata": {
        "id": "uQnujhOarw8F"
      },
      "source": [
        "#### Random Forest"
      ]
    },
    {
      "cell_type": "code",
      "execution_count": null,
      "metadata": {
        "id": "HNFEvFgbrw8F",
        "outputId": "fd47f4e8-432e-456a-a39d-66e9aac9cf1e"
      },
      "outputs": [
        {
          "name": "stdout",
          "output_type": "stream",
          "text": [
            "Scores: [96963.10192753 47862.65729636 64981.93435835 56938.85521984\n",
            " 60802.46090989 60535.50319764 46989.4400147  79484.26918866\n",
            " 74040.3414757  49323.01936423]\n",
            "Mean: 63792.158295289555\n",
            "Std.dev: 15049.727081731291\n"
          ]
        }
      ],
      "source": [
        "scores = cross_val_score(RF_model, X_prepared, y, scoring=\"neg_mean_squared_error\", cv=10)\n",
        "LR_rmse_scores = np.sqrt(-scores)\n",
        "display_scores(LR_rmse_scores)"
      ]
    },
    {
      "cell_type": "markdown",
      "metadata": {
        "id": "zI9unrHerw8G"
      },
      "source": [
        "## Modelni saqlash\n",
        "\n",
        "Yaratgan modelimizdan kelajakda foydalanish uchun saqlab qo'yishimiz lozim. Umuman olganda nafaqat model, balki boshqa kerak bo'ladigan o'zgaruvchilarni ham saqlab qo'yish maqsadga muvvofiq bo'ladi. Masalan pipeline.\n",
        "\n",
        "Buning uchun Pythondagi `pickle` yoki `joblib` modullaridan foydalanamiz.\n",
        "\n",
        "### `pickle` yordamida saqlash"
      ]
    },
    {
      "cell_type": "code",
      "execution_count": null,
      "metadata": {
        "id": "i5P_o2FFrw8G"
      },
      "outputs": [],
      "source": [
        "import pickle\n",
        "\n",
        "filename = 'RF_model.pkl' # faylga istalgan nom beramiz\n",
        "with open(filename, 'wb') as file:\n",
        "    pickle.dump(RF_model, file)"
      ]
    },
    {
      "cell_type": "markdown",
      "metadata": {
        "id": "j7QVuUrMrw8G"
      },
      "source": [
        "Modelni qayta o'qiymiz:"
      ]
    },
    {
      "cell_type": "code",
      "execution_count": null,
      "metadata": {
        "id": "LWgWFDjZrw8G"
      },
      "outputs": [],
      "source": [
        "with open(filename, 'rb') as file:\n",
        "    model = pickle.load(file)"
      ]
    },
    {
      "cell_type": "markdown",
      "metadata": {
        "id": "Z5lqaYFFrw8G"
      },
      "source": [
        "Modelni sinab ko'ramiz"
      ]
    },
    {
      "cell_type": "code",
      "execution_count": null,
      "metadata": {
        "id": "n8gxyVZwrw8G",
        "outputId": "57e6fc06-17ac-4b60-bb9a-d8e14d86eb05"
      },
      "outputs": [
        {
          "name": "stdout",
          "output_type": "stream",
          "text": [
            "Scores: [76978.93742397 64329.3404101  61109.46641995 81775.30419816\n",
            " 62027.72651085]\n",
            "Mean: 69244.15499260693\n",
            "Std.dev: 8476.579030000677\n"
          ]
        }
      ],
      "source": [
        "scores = cross_val_score(model, X_prepared, y, scoring=\"neg_mean_squared_error\", cv=5)\n",
        "LR_rmse_scores = np.sqrt(-scores)\n",
        "display_scores(LR_rmse_scores)"
      ]
    },
    {
      "cell_type": "markdown",
      "metadata": {
        "id": "hnzFkbBvrw8G"
      },
      "source": [
        "### `joblib` yordamida saqlash\n",
        "joblib katta NumPy martrisalarni siqib saqlash uchun afzal.\n",
        "\n",
        "`joblib` o'rnatilmagan bo'lsa `pip install joblib` yordamida o'rnatib oling."
      ]
    },
    {
      "cell_type": "code",
      "execution_count": null,
      "metadata": {
        "id": "NG5x-wYkrw8H",
        "outputId": "b7e18a0b-14e3-43eb-bece-abf3df901434"
      },
      "outputs": [
        {
          "data": {
            "text/plain": [
              "['RF_model.jbl']"
            ]
          },
          "execution_count": 54,
          "metadata": {},
          "output_type": "execute_result"
        }
      ],
      "source": [
        "import joblib\n",
        "\n",
        "filename = 'RF_model.jbl' # faylga istalgan nom beramiz\n",
        "joblib.dump(RF_model, filename)"
      ]
    },
    {
      "cell_type": "markdown",
      "metadata": {
        "id": "RIhsx2adrw8H"
      },
      "source": [
        "Modelni o'qiymiz"
      ]
    },
    {
      "cell_type": "code",
      "execution_count": null,
      "metadata": {
        "id": "qLfxob2Urw8H"
      },
      "outputs": [],
      "source": [
        "model = joblib.load(filename)"
      ]
    },
    {
      "cell_type": "code",
      "execution_count": null,
      "metadata": {
        "id": "GKZqmiZarw8H",
        "outputId": "2856e2bd-788b-4dbd-c82b-21c211409dc4"
      },
      "outputs": [
        {
          "name": "stdout",
          "output_type": "stream",
          "text": [
            "Scores: [77460.56831558 63838.3153173  61358.53227924 80371.60644565\n",
            " 62380.21986169]\n",
            "Mean: 69081.84844389423\n",
            "Std.dev: 8120.562299609714\n"
          ]
        }
      ],
      "source": [
        "scores = cross_val_score(model, X_prepared, y, scoring=\"neg_mean_squared_error\", cv=5)\n",
        "LR_rmse_scores = np.sqrt(-scores)\n",
        "display_scores(LR_rmse_scores)"
      ]
    },
    {
      "cell_type": "markdown",
      "metadata": {
        "id": "itJzMbx5rw8H"
      },
      "source": [
        "`pipeline` saqlab olamiz"
      ]
    },
    {
      "cell_type": "code",
      "execution_count": null,
      "metadata": {
        "id": "-EL09HzLrw8H",
        "outputId": "566a7b59-d0fb-4da1-ffb5-58b58c5f54a5"
      },
      "outputs": [
        {
          "data": {
            "text/plain": [
              "['pipeline.jbl']"
            ]
          },
          "execution_count": 58,
          "metadata": {},
          "output_type": "execute_result"
        }
      ],
      "source": [
        "filename = 'pipeline.jbl'\n",
        "joblib.dump(full_pipeline, filename)"
      ]
    }
  ],
  "metadata": {
    "colab": {
      "provenance": []
    },
    "kernelspec": {
      "display_name": "Python 3",
      "language": "python",
      "name": "python3"
    },
    "language_info": {
      "codemirror_mode": {
        "name": "ipython",
        "version": 3
      },
      "file_extension": ".py",
      "mimetype": "text/x-python",
      "name": "python",
      "nbconvert_exporter": "python",
      "pygments_lexer": "ipython3",
      "version": "3.8.8"
    }
  },
  "nbformat": 4,
  "nbformat_minor": 0
}